{
 "cells": [
  {
   "cell_type": "markdown",
   "metadata": {},
   "source": [
    "# Variational Principle  using Symbolic Mathematics in Python "
   ]
  },
  {
   "cell_type": "markdown",
   "metadata": {},
   "source": [
    "## 1. Introduction"
   ]
  },
  {
   "cell_type": "markdown",
   "metadata": {},
   "source": [
    "The variational principle tells us that we can use a trial wavefunction to solve the Schrodinger equation using the following theorem:\n",
    "\n",
    "$${{\\int {{\\Psi ^*}\\hat H{\\rm{ }}\\Psi } d\\tau } \\over {\\int {{\\Psi ^*}\\Psi } d\\tau }} \\ge {E_0}$$\n",
    "\n",
    "We will use Sympy to solve the particle in a box problem by guessing a trial wavefunction using variational principle"
   ]
  },
  {
   "cell_type": "code",
   "execution_count": 39,
   "metadata": {},
   "outputs": [],
   "source": [
    "import sympy as sym"
   ]
  },
  {
   "cell_type": "markdown",
   "metadata": {},
   "source": [
    "This exercise is a bit more self-guided than the other notebooks we have done. One of the most useful things you can do is **open last week's notebook to remember the commands in sympy**. Also, remember that google is your friend:\n",
    "\n",
    "1. [Sympy tutorial](https://docs.sympy.org/latest/tutorial/index.html)\n",
    "2. [Stack Overflow](https://stackoverflow.com/search?q=sympy+)\n",
    "3. [Stack Exchange](https://stackexchange.com/)"
   ]
  },
  {
   "cell_type": "markdown",
   "metadata": {},
   "source": [
    "## 2. Particle in a box"
   ]
  },
  {
   "cell_type": "markdown",
   "metadata": {},
   "source": [
    "The wave function that we pick for a particle in a box needs to have the following properties\n",
    "\n",
    "1. single valued\n",
    "1. normalizable\n",
    "1. function and its first derivative are continuous \n",
    "1. boundary condition that the wave function goes to zero at the ends of the box\n",
    "\n",
    "![Particle in a box](InfiniteSquareWellAnimation.gif)\n",
    "\n",
    "Particle in a box: a is a classical particle, red is real part, blue is imaginary part."
   ]
  },
  {
   "cell_type": "markdown",
   "metadata": {},
   "source": [
    "This particle only expericnes kinetic energy between the box, so the Hamiltonian for this system is\n",
    "\n",
    "$$\\hat H = {{ - {\\hbar ^2}} \\over {2m}}{{{d^2}} \\over {d{x^2}}} + \\left\\{ {\\matrix{{V(x) = 0} & {0 < x < a}  \\cr {V(x) = \\infty } & {x < 0\\text{ }{\\rm{ or}}\\;x > a}  \\cr } } \\right.$$\n",
    "\n",
    "For our purposes, that means we can consider the Hamiltonian to be \n",
    "\n",
    "$$\\hat H = {{ - {\\hbar ^2}} \\over {2m}}{{{d^2}} \\over {d{x^2}}}$$\n",
    "\n",
    "as long as we keep the limits of integration to be $(0,a)$"
   ]
  },
  {
   "cell_type": "markdown",
   "metadata": {},
   "source": [
    "### 2.1 Trial Wave function"
   ]
  },
  {
   "cell_type": "markdown",
   "metadata": {},
   "source": [
    "Although the particle in box has a well known solution\n",
    "\n",
    "[https://en.wikipedia.org/wiki/Particle_in_a_box](https://en.wikipedia.org/wiki/Particle_in_a_box)\n",
    "\n",
    "(or check your favorite pchem book)\n",
    "\n",
    "We are going to guess a trial wave function:\n",
    "\n",
    "$$\\Phi (x) = \\left( {{x \\over a} - {{{x^3}} \\over a^3}} \\right) + \\alpha \\left( {{{{x^5}} \\over {{a^5}}} - {1 \\over 2}\\left( {{{{x^7}} \\over {{a^7}}} + {{{x^9}} \\over {{a^9}}}} \\right)} \\right)$$"
   ]
  },
  {
   "cell_type": "markdown",
   "metadata": {},
   "source": [
    "### 2.2 Exercise: Variational Theorem"
   ]
  },
  {
   "cell_type": "markdown",
   "metadata": {},
   "source": [
    "We are going to follow the following plan:\n",
    "\n",
    "1. Solve for the energy of the trial wave function above  \n",
    "\n",
    "$${E_{trial}} = {{\\int\\limits_0^a {\\Phi (x){{ - {\\hbar ^2}} \\over {2m}}{{{d^2}} \\over {d{x^2}}}\\Phi (x)dx} } \\over {\\int\\limits_0^a {\\Phi {{(x)}^2}dx} }}$$\n",
    "\n",
    "Your answer will be a function of $ m,a,\\text{and } \\alpha$ We will use $\\alpha$ as the parameter we vary to minimize the energy and make a new trial wave function.\n",
    "\n",
    "2. Minimize the trial energy \n",
    "We will use a first derivative of the trial energy $${d \\over {d\\alpha }}{E_{trial}}(\\alpha )$$ to find the value of $\\alpha$ that gives you the lowest energy\n",
    "\n",
    "\n",
    "3. Plot your new wavefunction compared to the ground state particle in a box: $${\\psi _{true}}(x) = {\\left( {{2 \\over a}} \\right)^{1/2}}\\sin {{n\\pi x} \\over a}$$ Plot as a function of $x/a$ from $0$ to $1$. Assuming this has $m=m_e$, and $a=a_0$ use atomic (theorist) units to plot the function.\n",
    "\n",
    "4. Compare your trial energy to the actual energy (using atomic units)\n",
    "$${E_{true}}(n = 1) = {{{\\hbar ^2}{\\pi ^2}} \\over {2m{a^2}}}$$\n"
   ]
  },
  {
   "cell_type": "code",
   "execution_count": 40,
   "metadata": {},
   "outputs": [
    {
     "data": {
      "image/png": "[encoded data removed]",
      "text/latex": [
       "$\\displaystyle \\alpha$"
      ],
      "text/plain": [
       "α"
      ]
     },
     "execution_count": 40,
     "metadata": {},
     "output_type": "execute_result"
    }
   ],
   "source": [
    "sym.init_printing()\n",
    "alpha=sym.symbols(\"alpha\")\n",
    "alpha"
   ]
  },
  {
   "cell_type": "code",
   "execution_count": 41,
   "metadata": {},
   "outputs": [
    {
     "data": {
      "image/png": "[encoded data removed]",
      "text/latex": [
       "$\\displaystyle \\alpha \\left(\\frac{x^{5}}{a^{5}} - \\frac{0.5 x^{7}}{a^{7}} - \\frac{0.5 x^{9}}{a^{9}}\\right) + \\frac{x}{a} - \\frac{x^{3}}{a^{3}}$"
      ],
      "text/plain": [
       "  ⎛ 5        7        9⎞        3\n",
       "  ⎜x    0.5⋅x    0.5⋅x ⎟   x   x \n",
       "α⋅⎜── - ────── - ──────⎟ + ─ - ──\n",
       "  ⎜ 5      7        9  ⎟   a    3\n",
       "  ⎝a      a        a   ⎠       a "
      ]
     },
     "execution_count": 41,
     "metadata": {},
     "output_type": "execute_result"
    }
   ],
   "source": [
    "x,m,a,n=sym.symbols('x,m,a,n')\n",
    "\n",
    "expr1=((x/a)-(x**3/a**3))+(alpha*((x**5/a**5)-0.5*((x**7/a**7)+(x**9/a**9))))\n",
    "expr1\n"
   ]
  },
  {
   "cell_type": "code",
   "execution_count": 42,
   "metadata": {},
   "outputs": [
    {
     "data": {
      "image/png": "[encoded data removed]",
      "text/latex": [
       "$\\displaystyle \\hbar$"
      ],
      "text/plain": [
       "ℏ"
      ]
     },
     "execution_count": 42,
     "metadata": {},
     "output_type": "execute_result"
    }
   ],
   "source": [
    "from sympy.physics.quantum.constants import hbar\n",
    "hbar"
   ]
  },
  {
   "cell_type": "code",
   "execution_count": 43,
   "metadata": {},
   "outputs": [],
   "source": [
    "#Set hbar to 1 as well as m"
   ]
  },
  {
   "cell_type": "code",
   "execution_count": 44,
   "metadata": {},
   "outputs": [],
   "source": [
    "expr1a=expr1*expr1"
   ]
  },
  {
   "cell_type": "code",
   "execution_count": 45,
   "metadata": {},
   "outputs": [
    {
     "data": {
      "image/png": "[encoded data removed]",
      "text/latex": [
       "$\\displaystyle \\left(\\alpha \\left(\\frac{x^{5}}{a^{5}} - \\frac{0.5 x^{7}}{a^{7}} - \\frac{0.5 x^{9}}{a^{9}}\\right) + \\frac{x}{a} - \\frac{x^{3}}{a^{3}}\\right)^{2}$"
      ],
      "text/plain": [
       "                                   2\n",
       "⎛  ⎛ 5        7        9⎞        3⎞ \n",
       "⎜  ⎜x    0.5⋅x    0.5⋅x ⎟   x   x ⎟ \n",
       "⎜α⋅⎜── - ────── - ──────⎟ + ─ - ──⎟ \n",
       "⎜  ⎜ 5      7        9  ⎟   a    3⎟ \n",
       "⎝  ⎝a      a        a   ⎠       a ⎠ "
      ]
     },
     "execution_count": 45,
     "metadata": {},
     "output_type": "execute_result"
    }
   ],
   "source": [
    "expr1a"
   ]
  },
  {
   "cell_type": "code",
   "execution_count": 46,
   "metadata": {},
   "outputs": [
    {
     "data": {
      "image/png": "[encoded data removed]",
      "text/latex": [
       "$\\displaystyle 0.0834787503518154 a \\alpha^{2} - 0.333333333333333 a \\alpha + 0.142857142857143 a \\left(2.0 \\alpha + 1.0\\right) + 0.0769230769230769 a \\left(- 1.0 \\alpha^{2} + 1.0 \\alpha\\right) - 0.0666666666666667 a$"
      ],
      "text/plain": [
       "                      2                                                       \n",
       "0.0834787503518154⋅a⋅α  - 0.333333333333333⋅a⋅α + 0.142857142857143⋅a⋅(2.0⋅α +\n",
       "\n",
       "                             ⎛       2        ⎞                       \n",
       " 1.0) + 0.0769230769230769⋅a⋅⎝- 1.0⋅α  + 1.0⋅α⎠ - 0.0666666666666667⋅a"
      ]
     },
     "execution_count": 46,
     "metadata": {},
     "output_type": "execute_result"
    }
   ],
   "source": [
    "bottom=sym.integrate(expr1a, (x,0,a))\n",
    "bottom"
   ]
  },
  {
   "cell_type": "code",
   "execution_count": 47,
   "metadata": {},
   "outputs": [
    {
     "data": {
      "image/png": "[encoded data removed]",
      "text/latex": [
       "$\\displaystyle 0.00655567342873843 \\alpha^{2} + 0.0293040293040293 \\alpha + 0.0761904761904761$"
      ],
      "text/plain": [
       "                     2                                            \n",
       "0.00655567342873843⋅α  + 0.0293040293040293⋅α + 0.0761904761904761"
      ]
     },
     "execution_count": 47,
     "metadata": {},
     "output_type": "execute_result"
    }
   ],
   "source": [
    "exprb=bottom.subs(a,1)\n",
    "exprb"
   ]
  },
  {
   "cell_type": "code",
   "execution_count": 48,
   "metadata": {},
   "outputs": [],
   "source": [
    "expr2=-0.5*(sym.diff(expr1,x,x))*expr1"
   ]
  },
  {
   "cell_type": "code",
   "execution_count": 49,
   "metadata": {},
   "outputs": [
    {
     "data": {
      "image/png": "[encoded data removed]",
      "text/latex": [
       "$\\displaystyle \\frac{0.5 x \\left(6 + \\frac{\\alpha x^{2} \\left(-20 + \\frac{21.0 x^{2}}{a^{2}} + \\frac{36.0 x^{4}}{a^{4}}\\right)}{a^{2}}\\right) \\left(\\alpha \\left(\\frac{x^{5}}{a^{5}} - \\frac{0.5 x^{7}}{a^{7}} - \\frac{0.5 x^{9}}{a^{9}}\\right) + \\frac{x}{a} - \\frac{x^{3}}{a^{3}}\\right)}{a^{3}}$"
      ],
      "text/plain": [
       "      ⎛         ⎛            2         4⎞⎞                                    \n",
       "      ⎜       2 ⎜      21.0⋅x    36.0⋅x ⎟⎟                                    \n",
       "      ⎜    α⋅x ⋅⎜-20 + ─────── + ───────⎟⎟                                    \n",
       "      ⎜         ⎜          2         4  ⎟⎟ ⎛  ⎛ 5        7        9⎞        3⎞\n",
       "      ⎜         ⎝         a         a   ⎠⎟ ⎜  ⎜x    0.5⋅x    0.5⋅x ⎟   x   x ⎟\n",
       "0.5⋅x⋅⎜6 + ──────────────────────────────⎟⋅⎜α⋅⎜── - ────── - ──────⎟ + ─ - ──⎟\n",
       "      ⎜                   2              ⎟ ⎜  ⎜ 5      7        9  ⎟   a    3⎟\n",
       "      ⎝                  a               ⎠ ⎝  ⎝a      a        a   ⎠       a ⎠\n",
       "──────────────────────────────────────────────────────────────────────────────\n",
       "                                       3                                      \n",
       "                                      a                                       "
      ]
     },
     "execution_count": 49,
     "metadata": {},
     "output_type": "execute_result"
    }
   ],
   "source": [
    "expr2"
   ]
  },
  {
   "cell_type": "code",
   "execution_count": 50,
   "metadata": {},
   "outputs": [
    {
     "data": {
      "image/png": "[encoded data removed]",
      "text/latex": [
       "$\\displaystyle - \\frac{0.114027149321267 \\alpha^{2}}{a} + \\frac{3.35714285714286 \\alpha}{a} + \\frac{0.2 \\left(- 10.0 \\alpha - 3.0\\right)}{a} + \\frac{0.111111111111111 \\left(- 10.0 \\alpha^{2} + 6.0 \\alpha\\right)}{a} + \\frac{0.0909090909090909 \\left(15.5 \\alpha^{2} - 19.5 \\alpha\\right)}{a} + \\frac{1.0}{a}$"
      ],
      "text/plain": [
       "                     2                                                        \n",
       "  0.114027149321267⋅α    3.35714285714286⋅α   0.2⋅(-10.0⋅α - 3.0)   0.11111111\n",
       "- ──────────────────── + ────────────────── + ─────────────────── + ──────────\n",
       "           a                     a                     a                      \n",
       "\n",
       "        ⎛        2        ⎞                      ⎛      2         ⎞      \n",
       "1111111⋅⎝- 10.0⋅α  + 6.0⋅α⎠   0.0909090909090909⋅⎝15.5⋅α  - 19.5⋅α⎠   1.0\n",
       "─────────────────────────── + ───────────────────────────────────── + ───\n",
       "        a                                       a                      a "
      ]
     },
     "execution_count": 50,
     "metadata": {},
     "output_type": "execute_result"
    }
   ],
   "source": [
    "top=sym.integrate(expr2, (x,0, a))\n",
    "top"
   ]
  },
  {
   "cell_type": "code",
   "execution_count": 51,
   "metadata": {},
   "outputs": [
    {
     "data": {
      "image/png": "[encoded data removed]",
      "text/latex": [
       "$\\displaystyle 0.183952648658531 \\alpha^{2} + 0.251082251082251 \\alpha + 0.4$"
      ],
      "text/plain": [
       "                   2                            \n",
       "0.183952648658531⋅α  + 0.251082251082251⋅α + 0.4"
      ]
     },
     "execution_count": 51,
     "metadata": {},
     "output_type": "execute_result"
    }
   ],
   "source": [
    "topt=top.subs(a,1)\n",
    "topt"
   ]
  },
  {
   "cell_type": "code",
   "execution_count": 52,
   "metadata": {},
   "outputs": [],
   "source": [
    "energy=topt/exprb"
   ]
  },
  {
   "cell_type": "code",
   "execution_count": 53,
   "metadata": {},
   "outputs": [
    {
     "data": {
      "image/png": "[encoded data removed]",
      "text/latex": [
       "$\\displaystyle \\frac{0.183952648658531 \\alpha^{2} + 0.251082251082251 \\alpha + 0.4}{0.00655567342873843 \\alpha^{2} + 0.0293040293040293 \\alpha + 0.0761904761904761}$"
      ],
      "text/plain": [
       "                            2                                     \n",
       "         0.183952648658531⋅α  + 0.251082251082251⋅α + 0.4         \n",
       "──────────────────────────────────────────────────────────────────\n",
       "                     2                                            \n",
       "0.00655567342873843⋅α  + 0.0293040293040293⋅α + 0.0761904761904761"
      ]
     },
     "execution_count": 53,
     "metadata": {},
     "output_type": "execute_result"
    }
   ],
   "source": [
    "energy"
   ]
  },
  {
   "cell_type": "code",
   "execution_count": 54,
   "metadata": {},
   "outputs": [],
   "source": [
    "energy1diff=sym.diff(energy, alpha)"
   ]
  },
  {
   "cell_type": "code",
   "execution_count": 55,
   "metadata": {},
   "outputs": [
    {
     "data": {
      "image/png": "[encoded data removed]",
      "text/latex": [
       "$\\displaystyle \\frac{\\left(- 0.0131113468574769 \\alpha - 0.0293040293040293\\right) \\left(0.183952648658531 \\alpha^{2} + 0.251082251082251 \\alpha + 0.4\\right)}{\\left(0.00655567342873843 \\alpha^{2} + 0.0293040293040293 \\alpha + 0.0761904761904761\\right)^{2}} + \\frac{0.367905297317062 \\alpha + 0.251082251082251}{0.00655567342873843 \\alpha^{2} + 0.0293040293040293 \\alpha + 0.0761904761904761}$"
      ],
      "text/plain": [
       "                                             ⎛                   2            \n",
       "(-0.0131113468574769⋅α - 0.0293040293040293)⋅⎝0.183952648658531⋅α  + 0.2510822\n",
       "──────────────────────────────────────────────────────────────────────────────\n",
       "                                                                              \n",
       "             ⎛                     2                                          \n",
       "             ⎝0.00655567342873843⋅α  + 0.0293040293040293⋅α + 0.07619047619047\n",
       "\n",
       "                ⎞                                                             \n",
       "51082251⋅α + 0.4⎠                0.367905297317062⋅α + 0.251082251082251      \n",
       "───────────────── + ──────────────────────────────────────────────────────────\n",
       "   2                                     2                                    \n",
       "  ⎞                 0.00655567342873843⋅α  + 0.0293040293040293⋅α + 0.07619047\n",
       "61⎠                                                                           \n",
       "\n",
       "        \n",
       "        \n",
       "────────\n",
       "        \n",
       "61904761\n",
       "        "
      ]
     },
     "execution_count": 55,
     "metadata": {},
     "output_type": "execute_result"
    }
   ],
   "source": [
    "energy1diff"
   ]
  },
  {
   "cell_type": "code",
   "execution_count": 56,
   "metadata": {},
   "outputs": [
    {
     "data": {
      "image/png": "[encoded data removed]",
      "text/latex": [
       "$\\displaystyle \\left\\{-5.7405696334359, -0.344647139378354\\right\\}$"
      ],
      "text/plain": [
       "{-5.7405696334359, -0.344647139378354}"
      ]
     },
     "execution_count": 56,
     "metadata": {},
     "output_type": "execute_result"
    }
   ],
   "source": [
    "solutions=sym.solveset(energy1diff, alpha)\n",
    "solutions"
   ]
  },
  {
   "cell_type": "code",
   "execution_count": 57,
   "metadata": {},
   "outputs": [
    {
     "data": {
      "image/png": "[encoded data removed]",
      "text/plain": [
       "<Figure size 432x288 with 1 Axes>"
      ]
     },
     "metadata": {
      "needs_background": "light"
     },
     "output_type": "display_data"
    },
    {
     "data": {
      "text/plain": [
       "<sympy.plotting.plot.Plot at 0x18dd5a51a58>"
      ]
     },
     "execution_count": 57,
     "metadata": {},
     "output_type": "execute_result"
    }
   ],
   "source": [
    "sym.plot(energy1diff, (alpha, 0,1))"
   ]
  },
  {
   "cell_type": "code",
   "execution_count": 58,
   "metadata": {},
   "outputs": [
    {
     "data": {
      "image/png": "[encoded data removed]",
      "text/latex": [
       "$\\displaystyle 40.4873729589682$"
      ],
      "text/plain": [
       "40.4873729589682"
      ]
     },
     "execution_count": 58,
     "metadata": {},
     "output_type": "execute_result"
    }
   ],
   "source": [
    "enervalue1=energy.subs(alpha, -5.74056996334359)\n",
    "enervalue1"
   ]
  },
  {
   "cell_type": "code",
   "execution_count": 59,
   "metadata": {},
   "outputs": [
    {
     "data": {
      "image/png": "[encoded data removed]",
      "text/latex": [
       "$\\displaystyle 5.01446575472432$"
      ],
      "text/plain": [
       "5.01446575472432"
      ]
     },
     "execution_count": 59,
     "metadata": {},
     "output_type": "execute_result"
    }
   ],
   "source": [
    "enervalue2=energy.subs(alpha, -0.344647139378354)\n",
    "enervalue2"
   ]
  },
  {
   "cell_type": "code",
   "execution_count": 60,
   "metadata": {},
   "outputs": [
    {
     "data": {
      "image/png": "[encoded data removed]",
      "text/latex": [
       "$\\displaystyle \\frac{x}{a} - \\frac{x^{3}}{a^{3}} - \\frac{0.344647139378354 x^{5}}{a^{5}} + \\frac{0.172323569689177 x^{7}}{a^{7}} + \\frac{0.172323569689177 x^{9}}{a^{9}}$"
      ],
      "text/plain": [
       "     3                      5                      7                      9\n",
       "x   x    0.344647139378354⋅x    0.172323569689177⋅x    0.172323569689177⋅x \n",
       "─ - ── - ──────────────────── + ──────────────────── + ────────────────────\n",
       "a    3             5                      7                      9         \n",
       "    a             a                      a                      a          "
      ]
     },
     "execution_count": 60,
     "metadata": {},
     "output_type": "execute_result"
    }
   ],
   "source": [
    "expr1sub=expr1.subs(alpha, -0.344647139378354 )\n",
    "expr1sub\n"
   ]
  },
  {
   "cell_type": "code",
   "execution_count": 61,
   "metadata": {},
   "outputs": [
    {
     "data": {
      "image/png": "[encoded data removed]",
      "text/latex": [
       "$\\displaystyle 0.172323569689177 x^{9} + 0.172323569689177 x^{7} - 0.344647139378354 x^{5} - x^{3} + x$"
      ],
      "text/plain": [
       "                   9                      7                      5    3    \n",
       "0.172323569689177⋅x  + 0.172323569689177⋅x  - 0.344647139378354⋅x  - x  + x"
      ]
     },
     "execution_count": 61,
     "metadata": {},
     "output_type": "execute_result"
    }
   ],
   "source": [
    "expr1subfora=expr1sub.subs(a,1)\n",
    "expr1subfora"
   ]
  },
  {
   "cell_type": "code",
   "execution_count": 62,
   "metadata": {},
   "outputs": [
    {
     "data": {
      "image/png": "[encoded data removed]",
      "text/plain": [
       "<Figure size 432x288 with 1 Axes>"
      ]
     },
     "metadata": {
      "needs_background": "light"
     },
     "output_type": "display_data"
    },
    {
     "data": {
      "text/plain": [
       "<sympy.plotting.plot.Plot at 0x18dd5a1c908>"
      ]
     },
     "execution_count": 62,
     "metadata": {},
     "output_type": "execute_result"
    }
   ],
   "source": [
    "groundparticle=2**0.5*sym.sin(sym.pi*x)\n",
    "sym.plot(groundparticle, expr1subfora, (x,0,1))"
   ]
  },
  {
   "cell_type": "code",
   "execution_count": 63,
   "metadata": {},
   "outputs": [
    {
     "data": {
      "image/png": "[encoded data removed]",
      "text/latex": [
       "$\\displaystyle 4.935$"
      ],
      "text/plain": [
       "4.935"
      ]
     },
     "execution_count": 63,
     "metadata": {},
     "output_type": "execute_result"
    }
   ],
   "source": [
    "ActualE=(sym.pi**2/2)\n",
    "ActualE.evalf(4)"
   ]
  },
  {
   "cell_type": "markdown",
   "metadata": {},
   "source": [
    "As we can see the value for the Actual Energy (4.935) is a bit lower than the Trial Energy (5.014). Consequently, the True wavefunction is more stable than the Trial one because the energy is lower."
   ]
  },
  {
   "cell_type": "markdown",
   "metadata": {},
   "source": [
    "### 2.3 Exercise: New trial wavefunction"
   ]
  },
  {
   "cell_type": "markdown",
   "metadata": {},
   "source": [
    "Determine the minimum energy of the particle in a box using a new trial wavefunction $$x^\\alpha(x-a)^\\alpha$$\n",
    "\n",
    "1. Find the minimum energy, $E_{trial}$\n",
    "2. Plot the new trial wavefunction and compare it to the true solution and the wavefunction you found above\n",
    "3. Compare you new energy to the trial energy you found above\n",
    "4. Which wavefunction is better? How do you know?"
   ]
  },
  {
   "cell_type": "code",
   "execution_count": 64,
   "metadata": {},
   "outputs": [],
   "source": [
    "# Your code here"
   ]
  },
  {
   "cell_type": "markdown",
   "metadata": {},
   "source": [
    "Your descriptions/explanations here"
   ]
  },
  {
   "cell_type": "markdown",
   "metadata": {},
   "source": [
    "### 2.4 Exercise: Design your own wavefunction!"
   ]
  },
  {
   "cell_type": "markdown",
   "metadata": {},
   "source": [
    "**Now you get to make your own wavefunction!**\n",
    "\n",
    "The only guidance I would give you is that it make sense mathematically and that it include $\\alpha$ so that you can minimize the energy.\n",
    "\n",
    "Remember that $a$ and $x$ are both length units, and that trigonometric, logarithmic, and exponential functions are all unitless  \n",
    "\n",
    "\n",
    "Using your new wavefunction:\n",
    "\n",
    "1. Find the minimum energy, $E_{trial}$\n",
    "2. Plot the new trial wavefunction and compare it to the true solution and the wavefunction you found above\n",
    "3. Compare you new energy to the trial energy you found above\n",
    "4. Which wavefunction is better? How do you know?"
   ]
  },
  {
   "cell_type": "code",
   "execution_count": null,
   "metadata": {},
   "outputs": [],
   "source": [
    "from sympy import *\n",
    "newtrialw=cos(x)+(alpha*((x**5/a**5)-0.5*((x**7/a**7)+(x**9/a**9))))\n",
    "newtrialw"
   ]
  },
  {
   "cell_type": "code",
   "execution_count": null,
   "metadata": {},
   "outputs": [],
   "source": [
    "newtrialw1=newtrialw*newtrialw\n",
    "newtrialw1"
   ]
  },
  {
   "cell_type": "code",
   "execution_count": null,
   "metadata": {},
   "outputs": [],
   "source": [
    "bottomd=sym.integrate(newtrialw1, (x,0,a))"
   ]
  },
  {
   "cell_type": "code",
   "execution_count": null,
   "metadata": {},
   "outputs": [],
   "source": [
    "denominator=sym.integrate(newtrialw1,(x,0,a))"
   ]
  },
  {
   "cell_type": "code",
   "execution_count": null,
   "metadata": {},
   "outputs": [],
   "source": [
    "denominator"
   ]
  },
  {
   "cell_type": "markdown",
   "metadata": {},
   "source": [
    "Your descriptions/explanations here"
   ]
  },
  {
   "cell_type": "markdown",
   "metadata": {},
   "source": [
    "# Reading Homework"
   ]
  },
  {
   "cell_type": "markdown",
   "metadata": {},
   "source": [
    "Read the following sections in Kramer\n",
    "\n",
    "- 4.2.3 Born-Oppenheimer approximation\n",
    "- 4.3.2 Secular equation\n",
    "- All of 4.5\n",
    "\n",
    "For each subsection\n",
    "- write down the subchapter name\n",
    "- what was the most important idea\n",
    "- draw an idea digram of the main idea\n",
    "\n",
    "**Make sure to upload this to the assignment repository**\n",
    "\n",
    "Example idea diagram:\n",
    "![Particle in a box](idea_map.png)"
   ]
  },
  {
   "cell_type": "code",
   "execution_count": null,
   "metadata": {},
   "outputs": [],
   "source": []
  }
 ],
 "metadata": {
  "kernelspec": {
   "display_name": "Python 3",
   "language": "python",
   "name": "python3"
  },
  "language_info": {
   "codemirror_mode": {
    "name": "ipython",
    "version": 3
   },
   "file_extension": ".py",
   "mimetype": "text/x-python",
   "name": "python",
   "nbconvert_exporter": "python",
   "pygments_lexer": "ipython3",
   "version": "3.7.3"
  }
 },
 "nbformat": 4,
 "nbformat_minor": 2
}
