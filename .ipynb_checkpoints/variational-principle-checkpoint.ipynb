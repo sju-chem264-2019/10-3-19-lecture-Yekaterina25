{
 "cells": [
  {
   "cell_type": "markdown",
   "metadata": {},
   "source": [
    "# Variational Principle  using Symbolic Mathematics in Python "
   ]
  },
  {
   "cell_type": "markdown",
   "metadata": {},
   "source": [
    "## 1. Introduction"
   ]
  },
  {
   "cell_type": "markdown",
   "metadata": {},
   "source": [
    "The variational principle tells us that we can use a trial wavefunction to solve the Schrodinger equation using the following theorem:\n",
    "\n",
    "$${{\\int {{\\Psi ^*}\\hat H{\\rm{ }}\\Psi } d\\tau } \\over {\\int {{\\Psi ^*}\\Psi } d\\tau }} \\ge {E_0}$$\n",
    "\n",
    "We will use Sympy to solve the particle in a box problem by guessing a trial wavefunction using variational principle"
   ]
  },
  {
   "cell_type": "code",
   "execution_count": 7,
   "metadata": {},
   "outputs": [],
   "source": [
    "import sympy as sym"
   ]
  },
  {
   "cell_type": "markdown",
   "metadata": {},
   "source": [
    "This exercise is a bit more self-guided than the other notebooks we have done. One of the most useful things you can do is **open last week's notebook to remember the commands in sympy**. Also, remember that google is your friend:\n",
    "\n",
    "1. [Sympy tutorial](https://docs.sympy.org/latest/tutorial/index.html)\n",
    "2. [Stack Overflow](https://stackoverflow.com/search?q=sympy+)\n",
    "3. [Stack Exchange](https://stackexchange.com/)"
   ]
  },
  {
   "cell_type": "markdown",
   "metadata": {},
   "source": [
    "## 2. Particle in a box"
   ]
  },
  {
   "cell_type": "markdown",
   "metadata": {},
   "source": [
    "The wave function that we pick for a particle in a box needs to have the following properties\n",
    "\n",
    "1. single valued\n",
    "1. normalizable\n",
    "1. function and its first derivative are continuous \n",
    "1. boundary condition that the wave function goes to zero at the ends of the box\n",
    "\n",
    "![Particle in a box](InfiniteSquareWellAnimation.gif)\n",
    "\n",
    "Particle in a box: a is a classical particle, red is real part, blue is imaginary part."
   ]
  },
  {
   "cell_type": "markdown",
   "metadata": {},
   "source": [
    "This particle only expericnes kinetic energy between the box, so the Hamiltonian for this system is\n",
    "\n",
    "$$\\hat H = {{ - {\\hbar ^2}} \\over {2m}}{{{d^2}} \\over {d{x^2}}} + \\left\\{ {\\matrix{{V(x) = 0} & {0 < x < a}  \\cr {V(x) = \\infty } & {x < 0\\text{ }{\\rm{ or}}\\;x > a}  \\cr } } \\right.$$\n",
    "\n",
    "For our purposes, that means we can consider the Hamiltonian to be \n",
    "\n",
    "$$\\hat H = {{ - {\\hbar ^2}} \\over {2m}}{{{d^2}} \\over {d{x^2}}}$$\n",
    "\n",
    "as long as we keep the limits of integration to be $(0,a)$"
   ]
  },
  {
   "cell_type": "markdown",
   "metadata": {},
   "source": [
    "### 2.1 Trial Wave function"
   ]
  },
  {
   "cell_type": "markdown",
   "metadata": {},
   "source": [
    "Although the particle in box has a well known solution\n",
    "\n",
    "[https://en.wikipedia.org/wiki/Particle_in_a_box](https://en.wikipedia.org/wiki/Particle_in_a_box)\n",
    "\n",
    "(or check your favorite pchem book)\n",
    "\n",
    "We are going to guess a trial wave function:\n",
    "\n",
    "$$\\Phi (x) = \\left( {{x \\over a} - {{{x^3}} \\over a^3}} \\right) + \\alpha \\left( {{{{x^5}} \\over {{a^5}}} - {1 \\over 2}\\left( {{{{x^7}} \\over {{a^7}}} + {{{x^9}} \\over {{a^9}}}} \\right)} \\right)$$"
   ]
  },
  {
   "cell_type": "markdown",
   "metadata": {},
   "source": [
    "### 2.2 Exercise: Variational Theorem"
   ]
  },
  {
   "cell_type": "markdown",
   "metadata": {},
   "source": [
    "We are going to follow the following plan:\n",
    "\n",
    "1. Solve for the energy of the trial wave function above  \n",
    "\n",
    "$${E_{trial}} = {{\\int\\limits_0^a {\\Phi (x){{ - {\\hbar ^2}} \\over {2m}}{{{d^2}} \\over {d{x^2}}}\\Phi (x)dx} } \\over {\\int\\limits_0^a {\\Phi {{(x)}^2}dx} }}$$\n",
    "\n",
    "Your answer will be a function of $ m,a,\\text{and } \\alpha$ We will use $\\alpha$ as the parameter we vary to minimize the energy and make a new trial wave function.\n",
    "\n",
    "2. Minimize the trial energy \n",
    "We will use a first derivative of the trial energy $${d \\over {d\\alpha }}{E_{trial}}(\\alpha )$$ to find the value of $\\alpha$ that gives you the lowest energy\n",
    "\n",
    "\n",
    "3. Plot your new wavefunction compared to the ground state particle in a box: $${\\psi _{true}}(x) = {\\left( {{2 \\over a}} \\right)^{1/2}}\\sin {{n\\pi x} \\over a}$$ Plot as a function of $x/a$ from $0$ to $1$. Assuming this has $m=m_e$, and $a=a_0$ use atomic (theorist) units to plot the function.\n",
    "\n",
    "4. Compare your trial energy to the actual energy (using atomic units)\n",
    "$${E_{true}}(n = 1) = {{{\\hbar ^2}{\\pi ^2}} \\over {2m{a^2}}}$$\n"
   ]
  },
  {
   "cell_type": "code",
   "execution_count": 13,
   "metadata": {},
   "outputs": [
    {
     "data": {
      "image/png": "[encoded data removed]",
      "text/latex": [
       "$\\displaystyle \\alpha$"
      ],
      "text/plain": [
       "α"
      ]
     },
     "execution_count": 13,
     "metadata": {},
     "output_type": "execute_result"
    }
   ],
   "source": [
    "sym.init_printing()\n",
    "alpha=sym.symbols(\"alpha\")\n",
    "alpha"
   ]
  },
  {
   "cell_type": "code",
   "execution_count": 67,
   "metadata": {},
   "outputs": [
    {
     "data": {
      "image/png": "[encoded data removed]",
      "text/latex": [
       "$\\displaystyle \\alpha \\left(\\frac{x^{5}}{a^{5}} - \\frac{1.0 x^{7}}{a^{7}}\\right) + \\frac{x}{a} - \\frac{x^{3}}{a^{3}}$"
      ],
      "text/plain": [
       "  ⎛ 5        7⎞        3\n",
       "  ⎜x    1.0⋅x ⎟   x   x \n",
       "α⋅⎜── - ──────⎟ + ─ - ──\n",
       "  ⎜ 5      7  ⎟   a    3\n",
       "  ⎝a      a   ⎠       a "
      ]
     },
     "execution_count": 67,
     "metadata": {},
     "output_type": "execute_result"
    }
   ],
   "source": [
    "x,m,a=sym.symbols('x,m,a')\n",
    "\n",
    "expr1=((x/a)-(x**3/a**3))+(alpha*((x**5/a**5)-0.5*((x**7/a**7)+(x**7/a**7))))\n",
    "expr1\n"
   ]
  },
  {
   "cell_type": "code",
   "execution_count": 68,
   "metadata": {},
   "outputs": [
    {
     "data": {
      "image/png": "[encoded data removed]",
      "text/latex": [
       "$\\displaystyle \\hbar$"
      ],
      "text/plain": [
       "ℏ"
      ]
     },
     "execution_count": 68,
     "metadata": {},
     "output_type": "execute_result"
    }
   ],
   "source": [
    "from sympy.physics.quantum.constants import hbar\n",
    "hbar"
   ]
  },
  {
   "cell_type": "code",
   "execution_count": 69,
   "metadata": {},
   "outputs": [],
   "source": [
    "#Set hbar to 1 as well as m"
   ]
  },
  {
   "cell_type": "code",
   "execution_count": 70,
   "metadata": {},
   "outputs": [],
   "source": [
    "expr1a=expr1*expr1"
   ]
  },
  {
   "cell_type": "code",
   "execution_count": 71,
   "metadata": {},
   "outputs": [
    {
     "data": {
      "image/png": "[encoded data removed]",
      "text/latex": [
       "$\\displaystyle \\left(\\alpha \\left(\\frac{x^{5}}{a^{5}} - \\frac{1.0 x^{7}}{a^{7}}\\right) + \\frac{x}{a} - \\frac{x^{3}}{a^{3}}\\right)^{2}$"
      ],
      "text/plain": [
       "                          2\n",
       "⎛  ⎛ 5        7⎞        3⎞ \n",
       "⎜  ⎜x    1.0⋅x ⎟   x   x ⎟ \n",
       "⎜α⋅⎜── - ──────⎟ + ─ - ──⎟ \n",
       "⎜  ⎜ 5      7  ⎟   a    3⎟ \n",
       "⎝  ⎝a      a   ⎠       a ⎠ "
      ]
     },
     "execution_count": 71,
     "metadata": {},
     "output_type": "execute_result"
    }
   ],
   "source": [
    "expr1a"
   ]
  },
  {
   "cell_type": "code",
   "execution_count": 75,
   "metadata": {},
   "outputs": [
    {
     "data": {
      "image/png": "[encoded data removed]",
      "text/latex": [
       "$\\displaystyle - 0.0871794871794872 a \\alpha^{2} - 0.444444444444444 a \\alpha + 0.142857142857143 a \\left(2.0 \\alpha + 1.0\\right) + 0.0909090909090909 a \\left(1.0 \\alpha^{2} + 2.0 \\alpha\\right) - 0.0666666666666667 a$"
      ],
      "text/plain": [
       "                        2                                                     \n",
       "- 0.0871794871794872⋅a⋅α  - 0.444444444444444⋅a⋅α + 0.142857142857143⋅a⋅(2.0⋅α\n",
       "\n",
       "                               ⎛     2        ⎞                       \n",
       " + 1.0) + 0.0909090909090909⋅a⋅⎝1.0⋅α  + 2.0⋅α⎠ - 0.0666666666666667⋅a"
      ]
     },
     "execution_count": 75,
     "metadata": {},
     "output_type": "execute_result"
    }
   ],
   "source": [
    "bottom=sym.integrate(expr1a, (x,0,a))\n",
    "bottom"
   ]
  },
  {
   "cell_type": "code",
   "execution_count": 84,
   "metadata": {},
   "outputs": [
    {
     "data": {
      "image/png": "[encoded data removed]",
      "text/latex": [
       "$\\displaystyle 0.00372960372960372 \\alpha^{2} + 0.0230880230880231 \\alpha + 0.0761904761904761$"
      ],
      "text/plain": [
       "                     2                                            \n",
       "0.00372960372960372⋅α  + 0.0230880230880231⋅α + 0.0761904761904761"
      ]
     },
     "execution_count": 84,
     "metadata": {},
     "output_type": "execute_result"
    }
   ],
   "source": [
    "exprb=bottom.subs(a,1)\n",
    "exprb"
   ]
  },
  {
   "cell_type": "code",
   "execution_count": 78,
   "metadata": {},
   "outputs": [],
   "source": [
    "expr2=-0.5*(sym.diff(expr1,x,x))*expr1"
   ]
  },
  {
   "cell_type": "code",
   "execution_count": 79,
   "metadata": {},
   "outputs": [
    {
     "data": {
      "image/png": "[encoded data removed]",
      "text/latex": [
       "$\\displaystyle - \\frac{0.5 x \\left(-6 + \\frac{\\alpha x^{2} \\left(20 - \\frac{42.0 x^{2}}{a^{2}}\\right)}{a^{2}}\\right) \\left(\\alpha \\left(\\frac{x^{5}}{a^{5}} - \\frac{1.0 x^{7}}{a^{7}}\\right) + \\frac{x}{a} - \\frac{x^{3}}{a^{3}}\\right)}{a^{3}}$"
      ],
      "text/plain": [
       "       ⎛          ⎛           2⎞⎞                            \n",
       "       ⎜        2 ⎜     42.0⋅x ⎟⎟                            \n",
       "       ⎜     α⋅x ⋅⎜20 - ───────⎟⎟                            \n",
       "       ⎜          ⎜         2  ⎟⎟ ⎛  ⎛ 5        7⎞        3⎞ \n",
       "       ⎜          ⎝        a   ⎠⎟ ⎜  ⎜x    1.0⋅x ⎟   x   x ⎟ \n",
       "-0.5⋅x⋅⎜-6 + ───────────────────⎟⋅⎜α⋅⎜── - ──────⎟ + ─ - ──⎟ \n",
       "       ⎜               2        ⎟ ⎜  ⎜ 5      7  ⎟   a    3⎟ \n",
       "       ⎝              a         ⎠ ⎝  ⎝a      a   ⎠       a ⎠ \n",
       "─────────────────────────────────────────────────────────────\n",
       "                               3                             \n",
       "                              a                              "
      ]
     },
     "execution_count": 79,
     "metadata": {},
     "output_type": "execute_result"
    }
   ],
   "source": [
    "expr2"
   ]
  },
  {
   "cell_type": "code",
   "execution_count": 80,
   "metadata": {},
   "outputs": [
    {
     "data": {
      "image/png": "[encoded data removed]",
      "text/latex": [
       "$\\displaystyle \\frac{1.2027972027972 \\alpha^{2}}{a} + \\frac{4.85714285714286 \\alpha}{a} + \\frac{0.2 \\left(- 10.0 \\alpha - 3.0\\right)}{a} + \\frac{0.111111111111111 \\left(- 10.0 \\alpha^{2} - 24.0 \\alpha\\right)}{a} + \\frac{1.0}{a}$"
      ],
      "text/plain": [
       "                 2                                                            \n",
       "1.2027972027972⋅α    4.85714285714286⋅α   0.2⋅(-10.0⋅α - 3.0)   0.111111111111\n",
       "────────────────── + ────────────────── + ─────────────────── + ──────────────\n",
       "        a                    a                     a                          \n",
       "\n",
       "    ⎛        2         ⎞      \n",
       "111⋅⎝- 10.0⋅α  - 24.0⋅α⎠   1.0\n",
       "──────────────────────── + ───\n",
       "    a                       a "
      ]
     },
     "execution_count": 80,
     "metadata": {},
     "output_type": "execute_result"
    }
   ],
   "source": [
    "top=sym.integrate(expr2, (x,0, a))\n",
    "top"
   ]
  },
  {
   "cell_type": "code",
   "execution_count": 82,
   "metadata": {},
   "outputs": [
    {
     "data": {
      "image/png": "[encoded data removed]",
      "text/latex": [
       "$\\displaystyle 0.0916860916860918 \\alpha^{2} + 0.19047619047619 \\alpha + 0.4$"
      ],
      "text/plain": [
       "                    2                           \n",
       "0.0916860916860918⋅α  + 0.19047619047619⋅α + 0.4"
      ]
     },
     "execution_count": 82,
     "metadata": {},
     "output_type": "execute_result"
    }
   ],
   "source": [
    "topt=top.subs(a,1)\n",
    "topt"
   ]
  },
  {
   "cell_type": "code",
   "execution_count": 88,
   "metadata": {},
   "outputs": [],
   "source": [
    "energy=topt/exprb"
   ]
  },
  {
   "cell_type": "code",
   "execution_count": 89,
   "metadata": {},
   "outputs": [
    {
     "data": {
      "image/png": "[encoded data removed]",
      "text/latex": [
       "$\\displaystyle \\frac{0.0916860916860918 \\alpha^{2} + 0.19047619047619 \\alpha + 0.4}{0.00372960372960372 \\alpha^{2} + 0.0230880230880231 \\alpha + 0.0761904761904761}$"
      ],
      "text/plain": [
       "                             2                                    \n",
       "         0.0916860916860918⋅α  + 0.19047619047619⋅α + 0.4         \n",
       "──────────────────────────────────────────────────────────────────\n",
       "                     2                                            \n",
       "0.00372960372960372⋅α  + 0.0230880230880231⋅α + 0.0761904761904761"
      ]
     },
     "execution_count": 89,
     "metadata": {},
     "output_type": "execute_result"
    }
   ],
   "source": [
    "energy"
   ]
  },
  {
   "cell_type": "code",
   "execution_count": 92,
   "metadata": {},
   "outputs": [],
   "source": [
    "energy1diff=sym.diff(energy, alpha)"
   ]
  },
  {
   "cell_type": "code",
   "execution_count": 93,
   "metadata": {},
   "outputs": [
    {
     "data": {
      "image/png": "[encoded data removed]",
      "text/latex": [
       "$\\displaystyle \\frac{\\left(- 0.00745920745920745 \\alpha - 0.0230880230880231\\right) \\left(0.0916860916860918 \\alpha^{2} + 0.19047619047619 \\alpha + 0.4\\right)}{\\left(0.00372960372960372 \\alpha^{2} + 0.0230880230880231 \\alpha + 0.0761904761904761\\right)^{2}} + \\frac{0.183372183372184 \\alpha + 0.19047619047619}{0.00372960372960372 \\alpha^{2} + 0.0230880230880231 \\alpha + 0.0761904761904761}$"
      ],
      "text/plain": [
       "                                              ⎛                    2          \n",
       "(-0.00745920745920745⋅α - 0.0230880230880231)⋅⎝0.0916860916860918⋅α  + 0.19047\n",
       "──────────────────────────────────────────────────────────────────────────────\n",
       "                                                                              \n",
       "             ⎛                     2                                          \n",
       "             ⎝0.00372960372960372⋅α  + 0.0230880230880231⋅α + 0.07619047619047\n",
       "\n",
       "                 ⎞                                                            \n",
       "619047619⋅α + 0.4⎠                 0.183372183372184⋅α + 0.19047619047619     \n",
       "────────────────── + ─────────────────────────────────────────────────────────\n",
       "   2                                      2                                   \n",
       "  ⎞                  0.00372960372960372⋅α  + 0.0230880230880231⋅α + 0.0761904\n",
       "61⎠                                                                           \n",
       "\n",
       "         \n",
       "         \n",
       "─────────\n",
       "         \n",
       "761904761\n",
       "         "
      ]
     },
     "execution_count": 93,
     "metadata": {},
     "output_type": "execute_result"
    }
   ],
   "source": [
    "energy1diff"
   ]
  },
  {
   "cell_type": "code",
   "execution_count": 95,
   "metadata": {},
   "outputs": [
    {
     "data": {
      "image/png": "[encoded data removed]",
      "text/latex": [
       "$\\displaystyle \\left\\{-7.29811389907214, -0.514130998887027\\right\\}$"
      ],
      "text/plain": [
       "{-7.29811389907214, -0.514130998887027}"
      ]
     },
     "execution_count": 95,
     "metadata": {},
     "output_type": "execute_result"
    }
   ],
   "source": [
    "solutions=sym.solveset(energy1diff, alpha)\n",
    "solutions"
   ]
  },
  {
   "cell_type": "code",
   "execution_count": null,
   "metadata": {},
   "outputs": [],
   "source": []
  },
  {
   "cell_type": "markdown",
   "metadata": {},
   "source": [
    "Your descriptions/explanations here"
   ]
  },
  {
   "cell_type": "markdown",
   "metadata": {},
   "source": [
    "### 2.3 Exercise: New trial wavefunction"
   ]
  },
  {
   "cell_type": "markdown",
   "metadata": {},
   "source": [
    "Determine the minimum energy of the particle in a box using a new trial wavefunction $$x^\\alpha(x-a)^\\alpha$$\n",
    "\n",
    "1. Find the minimum energy, $E_{trial}$\n",
    "2. Plot the new trial wavefunction and compare it to the true solution and the wavefunction you found above\n",
    "3. Compare you new energy to the trial energy you found above\n",
    "4. Which wavefunction is better? How do you know?"
   ]
  },
  {
   "cell_type": "code",
   "execution_count": 4,
   "metadata": {},
   "outputs": [],
   "source": [
    "# Your code here"
   ]
  },
  {
   "cell_type": "markdown",
   "metadata": {},
   "source": [
    "Your descriptions/explanations here"
   ]
  },
  {
   "cell_type": "markdown",
   "metadata": {},
   "source": [
    "### 2.4 Exercise: Design your own wavefunction!"
   ]
  },
  {
   "cell_type": "markdown",
   "metadata": {},
   "source": [
    "**Now you get to make your own wavefunction!**\n",
    "\n",
    "The only guidance I would give you is that it make sense mathematically and that it include $\\alpha$ so that you can minimize the energy.\n",
    "\n",
    "Remember that $a$ and $x$ are both length units, and that trigonometric, logarithmic, and exponential functions are all unitless  \n",
    "\n",
    "\n",
    "Using your new wavefunction:\n",
    "\n",
    "1. Find the minimum energy, $E_{trial}$\n",
    "2. Plot the new trial wavefunction and compare it to the true solution and the wavefunction you found above\n",
    "3. Compare you new energy to the trial energy you found above\n",
    "4. Which wavefunction is better? How do you know?"
   ]
  },
  {
   "cell_type": "code",
   "execution_count": 62,
   "metadata": {},
   "outputs": [],
   "source": [
    "# Your code here"
   ]
  },
  {
   "cell_type": "markdown",
   "metadata": {},
   "source": [
    "Your descriptions/explanations here"
   ]
  },
  {
   "cell_type": "markdown",
   "metadata": {},
   "source": [
    "# Reading Homework"
   ]
  },
  {
   "cell_type": "markdown",
   "metadata": {},
   "source": [
    "Read the following sections in Kramer\n",
    "\n",
    "- 4.2.3 Born-Oppenheimer approximation\n",
    "- 4.3.2 Secular equation\n",
    "- All of 4.5\n",
    "\n",
    "For each subsection\n",
    "- write down the subchapter name\n",
    "- what was the most important idea\n",
    "- draw an idea digram of the main idea\n",
    "\n",
    "**Make sure to upload this to the assignment repository**\n",
    "\n",
    "Example idea diagram:\n",
    "![Particle in a box](idea_map.png)"
   ]
  },
  {
   "cell_type": "code",
   "execution_count": null,
   "metadata": {},
   "outputs": [],
   "source": []
  }
 ],
 "metadata": {
  "kernelspec": {
   "display_name": "Python 3",
   "language": "python",
   "name": "python3"
  },
  "language_info": {
   "codemirror_mode": {
    "name": "ipython",
    "version": 3
   },
   "file_extension": ".py",
   "mimetype": "text/x-python",
   "name": "python",
   "nbconvert_exporter": "python",
   "pygments_lexer": "ipython3",
   "version": "3.7.3"
  }
 },
 "nbformat": 4,
 "nbformat_minor": 2
}
